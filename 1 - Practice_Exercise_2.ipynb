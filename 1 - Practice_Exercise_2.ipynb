{
 "cells": [
  {
   "cell_type": "markdown",
   "metadata": {},
   "source": [
    "1. Ask user to enter a string and check that it is made up only alphabets:"
   ]
  },
  {
   "cell_type": "code",
   "execution_count": null,
   "metadata": {},
   "outputs": [],
   "source": [
    "input_word = input(\"Enter your username:\")\n",
    "\n",
    "if input_word.isalpha():\n",
    "    print(\"Your username is valid\")\n",
    "else:\n",
    "    print(\"Invalid username\")"
   ]
  },
  {
   "cell_type": "markdown",
   "metadata": {},
   "source": [
    "2. Now, make sure that the string is made up of both alphabets and numbers:\n",
    "\n",
    "TRY using isalnum() function and then entering only alhpabets in the string and see what happens."
   ]
  },
  {
   "cell_type": "code",
   "execution_count": null,
   "metadata": {},
   "outputs": [],
   "source": [
    "input_word = input(\"Enter your username:\")\n",
    "\n",
    "alpha_flag =  False\n",
    "number_flag = False\n",
    "\n",
    "for x in input_word :\n",
    "     if x.isalpha() and x.isdigit() :\n",
    "          alpha_flag = True\n",
    "     elif x.isdigit() :\n",
    "          number_flag = True\n",
    "\n",
    "if number_flag and alpha_flag and input_word.isalnum():\n",
    "     print(\"Vaild username\")\n",
    "else :\n",
    "     print(\"Invalid username\")"
   ]
  },
  {
   "cell_type": "markdown",
   "metadata": {},
   "source": [
    "3. Now, make sure that the string is made up of both alphabets and at least one number:\n"
   ]
  },
  {
   "cell_type": "code",
   "execution_count": null,
   "metadata": {},
   "outputs": [],
   "source": [
    "input_word = input(\"Enter your usernane: \")\n",
    "\n",
    "alpha_flag = False\n",
    "counter = 0\n",
    "number_flag = False\n",
    "alnum_flag = True\n",
    "\n",
    "\n",
    "for x in input_word:\n",
    "    if x.isdigit():\n",
    "       counter += 1\n",
    "    elif x. isalpha():\n",
    "        alpha_flag = True\n",
    "    else:\n",
    "        alnun_flag = False\n",
    "\n",
    "\n",
    "if not (alpha_flag and alnun_flag) and number_flag >=1:\n",
    "     print(\"Invalid username\")\n",
    "else:\n",
    "     print(\"Valid username\")"
   ]
  },
  {
   "cell_type": "markdown",
   "metadata": {},
   "source": [
    "4. Now, make sure that the string is made up of both alphabets, at least one number, and at least one special character:"
   ]
  },
  {
   "cell_type": "code",
   "execution_count": null,
   "metadata": {},
   "outputs": [],
   "source": [
    "input_word = input(\"Enter your username: \")\n",
    "\n",
    "alpha_flag = False\n",
    "number_flag = False\n",
    "Balnum_flag = True\n",
    "special_flag = False\n",
    "\n",
    "for x in input_word: \n",
    "    if x.isdigit():\n",
    "        number_flag = True\n",
    "    elif x. isalpha():\n",
    "        alpha_flag = True\n",
    "    else:\n",
    "        special__flag = True\n",
    "\n",
    "\n",
    "\n",
    "if not (alpha_flag and special_flag and number_flag):\n",
    "     print(\"Invalid username\")\n",
    "else:\n",
    "     print(\"Valid username\")"
   ]
  },
  {
   "cell_type": "markdown",
   "metadata": {},
   "source": [
    "5. Now, modify the above code so that if the user enters an invalid string, the program should ask the user to enter another string again, and keep asking until a valid string has been entered."
   ]
  },
  {
   "cell_type": "code",
   "execution_count": null,
   "metadata": {},
   "outputs": [],
   "source": []
  }
 ],
 "metadata": {
  "kernelspec": {
   "display_name": "Python 3",
   "language": "python",
   "name": "python3"
  },
  "language_info": {
   "codemirror_mode": {
    "name": "ipython",
    "version": 3
   },
   "file_extension": ".py",
   "mimetype": "text/x-python",
   "name": "python",
   "nbconvert_exporter": "python",
   "pygments_lexer": "ipython3",
   "version": "3.11.5"
  }
 },
 "nbformat": 4,
 "nbformat_minor": 2
}
